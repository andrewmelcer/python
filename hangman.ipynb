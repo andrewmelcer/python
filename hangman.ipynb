{
 "cells": [
  {
   "cell_type": "code",
   "execution_count": 1,
   "metadata": {},
   "outputs": [],
   "source": [
    "#found a list of random words from stackoverflow and copied a random amount\n",
    "words = [\"crown\",\"cruel\",\"crush\",\"cry\",\"cub\",\"cuddly\",\"cultured\",\"cumbersome\",\"cup\",\"cure\",\"curious\",\"curl\",\"curly\",\"current\",\"curtain\",\"curve\",\"curved\",\"curvy\",\"cushion\",\"cut\",\"cute\",\"cycle\",\"cynical\",\"dad\",\"daffy\",\"daily\",\"dam\",\"damage\",\"damaged\",\"damaging\",\"damp\",\"dance\",\"dangerous\",\"dapper\",\"dare\",\"dark\",\"dashing\",\"daughter\",\"day\",\"dazzling\",\"dead\",\"deadpan\",\"deafening\",\"dear\",\"death\",\"debonair\",\"debt\",\"decay\",\"deceive\",\"decide\",\"decision\",\"decisive\",\"decorate\",\"decorous\",\"deep\",\"deeply\",\"deer\",\"defeated\",\"defective\",\"defiant\",\"degree\",\"delay\",\"delicate\",\"delicious\",\"delight\",\"delightful\",\"delirious\",\"deliver\",\"demonic\",\"depend\",\"dependent\",\"depressed\",\"deranged\",\"describe\",\"descriptive\",\"desert\",\"deserted\",\"deserve\",\"design\",\"desire\",\"desk\",\"destroy\",\"destruction\",\"detail\",\"detailed\",\"detect\",\"determined\",\"develop\",\"development\",\"devilish\",\"didactic\",\"different\",\"difficult\",\"digestion\",\"diligent\",\"dime\",\"dinner\",\"dinosaurs\",\"direction\",\"direful\",\"dirt\",\"dirty\",\"disagree\",\"disagreeable\",\"disappear\",\"disapprove\",\"disarm\",\"disastrous\",\"discover\",\"discovery\",\"discreet\",\"discussion\",\"disgusted\",\"disgusting\",\"disillusioned\",\"dislike\",\"dispensable\",\"distance\",\"distinct\",\"distribution\",\"disturbed\",\"divergent\",\"divide\",\"division\",\"dizzy\",\"dock\",\"doctor\",\"dog\",\"dogs\",\"doll\",\"dolls\",\"domineering\",\"donkey\",\"door\",\"double\",\"doubt\",\"doubtful\",\"downtown\",\"drab\",\"draconian\",\"drag\",\"drain\",\"dramatic\",\"drawer\",\"dream\",\"dreary\",\"dress\",\"drink\",\"drip\",\"driving\",\"drop\",\"drown\",\"drum\",\"drunk\",\"dry\",\"duck\",\"ducks\",\"dull\",\"dust\",\"dusty\",\"dynamic\",\"dysfunctional\",\"eager\",\"ear\",\"early\",\"earn\",\"earsplitting\",\"earth\",\"earthquake\",\"earthy\",\"easy\",\"eatable\",\"economic\",\"edge\",\"educate\",\"educated\",\"education\",\"effect\",\"efficacious\",\"efficient\",\"egg\",\"eggnog\",\"eggs\",\"eight\",\"elastic\",\"elated\",\"elbow\",\"elderly\",\"electric\",\"elegant\",\"elfin\",\"elite\",\"embarrass\",\"embarrassed\",\"eminent\",\"employ\",\"empty\",\"enchanted\",\"enchanting\",\"encourage\",\"encouraging\",\"end\",\"endurable\",\"energetic\",\"engine\",\"enjoy\",\"enormous\",\"enter\",\"entertain\",\"entertaining\",\"enthusiastic\",\"envious\",\"equable\",\"equal\",\"erect\",\"erratic\",\"error\",\"escape\",\"ethereal\",\"evanescent\",\"evasive\",\"even\",\"event\",\"examine\",\"example\",\"excellent\",\"exchange\",\"excite\",\"excited\",\"exciting\",\"exclusive\",\"excuse\",\"exercise\",\"exist\",\"existence\",\"exotic\",\"expand\",\"expansion\",\"expect\",\"expensive\",\"experience\",\"expert\",\"explain\",\"explode\",\"extend\",\"extra-large\",\"extra-small\",\"exuberant\",\"exultant\",\"eye\",\"eyes\",\"fabulous\",\"face\",\"fact\",\"fade\",\"faded\",\"fail\",\"faint\",\"fair\",\"fairies\",\"faithful\",\"fall\",\"fallacious\",\"false\",\"familiar\",\"famous\",\"fanatical\",\"fancy\",\"fang\",\"fantastic\",\"far\",\"far-flung\",\"farm\",\"fascinated\",\"fast\",\"fasten\",\"fat\",\"faulty\",\"fax\",\"fear\",\"fearful\",\"fearless\",\"feeble\",\"feeling\",\"feigned\",\"female\",\"fence\",\"fertile\",\"festive\",\"fetch\",\"few\",\"field\",\"fierce\",\"file\",\"fill\",\"film\",\"filthy\",\"fine\",\"finger\",\"finicky\",\"fire\",\"fireman\",\"first\",\"fish\",\"fit\",\"five\",\"fix\",\"fixed\",\"flag\",\"flagrant\",\"flaky\",\"flame\",\"flap\",\"flash\",\"flashy\",\"flat\",\"flavor\",\"flawless\",\"flesh\",\"flight\",\"flimsy\",\"flippant\",\"float\",\"flock\",\"flood\",\"floor\",\"flow\",\"flower\",\"flowers\",\"flowery\",\"fluffy\",\"fluttering\",\"fly\",\"foamy\",\"fog\",\"fold\",\"follow\",\"food\",\"fool\",\"foolish\",\"foot\",\"force\",\"foregoing\",\"forgetful\",\"fork\",\"form\",\"fortunate\",\"found\",\"four\",\"fowl\",\"fragile\",\"frail\",\"frame\",\"frantic\",\"free\",\"freezing\",\"frequent\",\"fresh\",\"fretful\",\"friction\",\"friend\",\"friendly\",\"friends\",\"frighten\",\"frightened\",\"frightening\",\"frog\",\"frogs\",\"front\",\"fruit\",\"fry\",\"fuel\",\"full\",\"fumbling\",\"functional\",\"funny\",\"furniture\",\"furry\",\"furtive\",\"future\",\"futuristic\",\"fuzzy\",\"gabby\",\"gainful\",\"gamy\",\"gaping\",\"garrulous\",\"gate\",\"gather\",\"gaudy\",\"gaze\",\"geese\",\"general\",\"gentle\",\"ghost\",\"giant\",\"giants\",\"giddy\",\"gifted\",\"gigantic\",\"giraffe\",\"girl\",\"girls\",\"glamorous\",\"glass\",\"gleaming\",\"glib\",\"glistening\",\"glorious\",\"glossy\",\"glove\",\"glow\",\"glue\",\"godly\",\"gold\",\"good\",\"goofy\",\"gorgeous\",\"government\",\"governor\",\"grab\",\"graceful\",\"grade\",\"grain\",\"grandfather\",\"grandiose\",\"grandmother\",\"grape\",\"grass\",\"grate\",\"grateful\",\"gratis\",\"gray\",\"grease\",\"greasy\",\"great\",\"greedy\",\"green\",\"greet\",\"grey\",\"grieving\",\"grin\",\"grip\",\"groan\",\"groovy\",\"grotesque\",\"grouchy\",\"ground\"]\n",
    "\n",
    "import random\n",
    "import string\n",
    "\n",
    "#create function to randomly choose a word from the list\n",
    "def get_valid_word(words):\n",
    "    word = random.choice(words)\n",
    "    while '-' in word or ' ' in word:\n",
    "        word = random.choice(words)\n",
    "\n",
    "    return word.upper()\n",
    "\n",
    "#create actual hangman function with while and if, elif, and else statements\n",
    "def hangman():\n",
    "    word = get_valid_word(words)\n",
    "    word_letters = set(word)\n",
    "    alphabet = set(string.ascii_uppercase)\n",
    "    #a set to store the letters that have been guessed\n",
    "    used_letters = set()\n",
    "\n",
    "    #number of guesses that player has \n",
    "    lives = 6\n",
    "\n",
    "    while len(word_letters)>0 and lives > 0:\n",
    "        print('You have', lives, 'lives left and you have used these letters so far: ',' '.join(used_letters))\n",
    "\n",
    "        #give current word to player returning all correct guesses in the word and giving a dash for each letter still missing\n",
    "        word_list = [letter if letter in used_letters else '-' for letter in word]\n",
    "        print('Current word: ', ' '.join(word_list))\n",
    "\n",
    "        #create user input for letter\n",
    "        user_letter = input('Guess a letter: ').upper()\n",
    "        if user_letter in alphabet-used_letters:\n",
    "            used_letters.add(user_letter)\n",
    "            if user_letter in word_letters:\n",
    "                word_letters.remove(user_letter)\n",
    "            else: \n",
    "                lives = lives - 1\n",
    "                print('Letter is not in word')\n",
    "\n",
    "        #create elif statement if they have already guessed the letter given\n",
    "        elif user_letter not in word_letters:\n",
    "            print('You have already used that character. Please try again')\n",
    "\n",
    "        #create else statement if they guess a letter not in the word\n",
    "        else:\n",
    "            print('Sorry, that letter is not in the word.')\n",
    "            print(draw_hangman(len(used_letters)))\n",
    "\n",
    "    #while loops ends when the word is guessed or the player has no more lives        \n",
    "    if lives == 0:\n",
    "        print('You have lost. The word was:', word)\n",
    "    else:\n",
    "        print('You guessed the word', word, '!!')"
   ]
  },
  {
   "cell_type": "code",
   "execution_count": 46,
   "metadata": {},
   "outputs": [
    {
     "name": "stdout",
     "output_type": "stream",
     "text": [
      "You have 6 lives left and you have used these letters so far:  \n",
      "Current word:  - - - - - - - -\n",
      "Letter is not in word\n",
      "You have 5 lives left and you have used these letters so far:  A\n",
      "Current word:  - - - - - - - -\n",
      "You have 5 lives left and you have used these letters so far:  E A\n",
      "Current word:  E - - - - - - -\n",
      "Letter is not in word\n",
      "You have 4 lives left and you have used these letters so far:  E A I\n",
      "Current word:  E - - - - - - -\n",
      "You have 4 lives left and you have used these letters so far:  E A O I\n",
      "Current word:  E - O - - O - -\n",
      "You have 4 lives left and you have used these letters so far:  A U I O E\n",
      "Current word:  E - O - - O U -\n",
      "You have 4 lives left and you have used these letters so far:  A R U I O E\n",
      "Current word:  E - O R - O U -\n",
      "Letter is not in word\n",
      "You have 3 lives left and you have used these letters so far:  A R U I O E T\n",
      "Current word:  E - O R - O U -\n",
      "You have 3 lives left and you have used these letters so far:  A R U I S O E T\n",
      "Current word:  E - O R - O U S\n",
      "You have 3 lives left and you have used these letters so far:  N A R U I S O E T\n",
      "Current word:  E N O R - O U S\n",
      "You guessed the word ENORMOUS !!\n"
     ]
    }
   ],
   "source": [
    "hangman()"
   ]
  },
  {
   "cell_type": "code",
   "execution_count": 2,
   "metadata": {},
   "outputs": [
    {
     "name": "stdout",
     "output_type": "stream",
     "text": [
      "You have 6 lives left and you have used these letters so far:  \n",
      "Current word:  - - - - - -\n",
      "Letter is not in word\n",
      "You have 5 lives left and you have used these letters so far:  A\n",
      "Current word:  - - - - - -\n",
      "You have 5 lives left and you have used these letters so far:  A E\n",
      "Current word:  E - - E - -\n",
      "Letter is not in word\n",
      "You have 4 lives left and you have used these letters so far:  A I E\n",
      "Current word:  E - - E - -\n",
      "Letter is not in word\n",
      "You have 3 lives left and you have used these letters so far:  A I O E\n",
      "Current word:  E - - E - -\n",
      "Letter is not in word\n",
      "You have 2 lives left and you have used these letters so far:  E A I O U\n",
      "Current word:  E - - E - -\n",
      "Letter is not in word\n",
      "You have 1 lives left and you have used these letters so far:  E A I R O U\n",
      "Current word:  E - - E - -\n",
      "You have already used that character. Please try again\n",
      "You have 1 lives left and you have used these letters so far:  E A I R O U\n",
      "Current word:  E - - E - -\n",
      "You have 1 lives left and you have used these letters so far:  E A I T R O U\n",
      "Current word:  E - - E - T\n",
      "Letter is not in word\n",
      "You have lost. The word was: EXPECT\n"
     ]
    }
   ],
   "source": [
    "hangman()"
   ]
  },
  {
   "cell_type": "code",
   "execution_count": 3,
   "metadata": {},
   "outputs": [
    {
     "name": "stdout",
     "output_type": "stream",
     "text": [
      "You have 6 lives left and you have used these letters so far:  \n",
      "Current word:  - - - - - - - - -\n",
      "You have 6 lives left and you have used these letters so far:  A\n",
      "Current word:  - - - A - - - - -\n",
      "You have 6 lives left and you have used these letters so far:  A E\n",
      "Current word:  E - - A - - - - -\n",
      "You have 6 lives left and you have used these letters so far:  A I E\n",
      "Current word:  E - - A - - I - -\n",
      "Letter is not in word\n",
      "You have 5 lives left and you have used these letters so far:  A I E R\n",
      "Current word:  E - - A - - I - -\n",
      "Letter is not in word\n",
      "You have 4 lives left and you have used these letters so far:  E A I T R\n",
      "Current word:  E - - A - - I - -\n",
      "You have 4 lives left and you have used these letters so far:  E A I T R S\n",
      "Current word:  E - - A - S I - -\n",
      "You have 4 lives left and you have used these letters so far:  E A I T R S O\n",
      "Current word:  E - - A - S I O -\n",
      "You have 4 lives left and you have used these letters so far:  E A I T R S O N\n",
      "Current word:  E - - A N S I O N\n",
      "You have 4 lives left and you have used these letters so far:  E A I T R S X O N\n",
      "Current word:  E X - A N S I O N\n",
      "You guessed the word EXPANSION !!\n"
     ]
    }
   ],
   "source": [
    "hangman()"
   ]
  },
  {
   "cell_type": "code",
   "execution_count": null,
   "metadata": {},
   "outputs": [],
   "source": []
  }
 ],
 "metadata": {
  "kernelspec": {
   "display_name": "Python 3.8.9 64-bit",
   "language": "python",
   "name": "python3"
  },
  "language_info": {
   "codemirror_mode": {
    "name": "ipython",
    "version": 3
   },
   "file_extension": ".py",
   "mimetype": "text/x-python",
   "name": "python",
   "nbconvert_exporter": "python",
   "pygments_lexer": "ipython3",
   "version": "3.8.9"
  },
  "orig_nbformat": 4,
  "vscode": {
   "interpreter": {
    "hash": "31f2aee4e71d21fbe5cf8b01ff0e069b9275f58929596ceb00d14d90e3e16cd6"
   }
  }
 },
 "nbformat": 4,
 "nbformat_minor": 2
}
